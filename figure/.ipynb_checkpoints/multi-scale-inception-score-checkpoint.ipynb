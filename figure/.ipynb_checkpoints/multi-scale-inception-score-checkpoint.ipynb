{
 "cells": [
  {
   "cell_type": "code",
   "execution_count": 1,
   "metadata": {
    "collapsed": true,
    "scrolled": true
   },
   "outputs": [],
   "source": [
    "\n",
    "import numpy as np\n",
    "import matplotlib.pyplot as plt\n",
    "import matplotlib as mpl\n",
    "mpl.style.use('fivethirtyeight')\n",
    "\n",
    "mpl.rcParams['axes.linewidth'] = 2\n",
    "\n",
    "ls = 'dotted'\n",
    "\n",
    "fig, ax = plt.subplots(figsize=(7, 4), num='seaborn-colorblind')\n",
    "\n",
    "\n",
    "x = [1, 2, 3]\n",
    "y1 =  [3.53, 3.97, 4.15]\n",
    "y2  = [2.95, 3.35, 3.70]\n",
    "y1err = [0.03, 0.03, 0.05]\n",
    "y2err = [0.02, 0.04, 0.04];\n",
    "# standard error bars\n",
    "ax.errorbar(x, y1, yerr=y1err, linestyle='-', marker='o', color='navy', markersize=8, label='HDGAN', linewidth=3)\n",
    "ax.errorbar(x, y2, yerr=y2err, linestyle=ls, marker='^', color='black', markersize=8, label='StackGAN', linewidth=3)\n",
    "\n",
    "# tidy up the figure\n",
    "#ax.set_xlim((0.8, 3.2))\n",
    "#ax.set_title('Multi-scale inception score', fontsize=20)\n",
    "ax.grid(False)\n",
    "\n",
    "plt.legend(loc=0, fontsize=20)\n",
    "plt.xticks(x, ['64x64', '128x128', '256x256'], fontsize=15)\n",
    "plt.yticks(fontsize=15)\n",
    "ax.set_xlabel('Resolution', fontsize=20)\n",
    "ax.set_ylabel('Inception score', fontsize=20)\n",
    "\n",
    "ax.spines['bottom'].set_color('black')\n",
    "ax.spines['top'].set_color('black')\n",
    "ax.spines['left'].set_color('black')\n",
    "ax.spines['right'].set_color('black')\n",
    "\n",
    "plt.tight_layout()\n",
    "plt.savefig('multiscale_inception.pdf')"
   ]
  },
  {
   "cell_type": "code",
   "execution_count": null,
   "metadata": {
    "collapsed": true
   },
   "outputs": [],
   "source": []
  }
 ],
 "metadata": {
  "kernelspec": {
   "display_name": "Python 3",
   "language": "python",
   "name": "python3"
  },
  "language_info": {
   "codemirror_mode": {
    "name": "ipython",
    "version": 3
   },
   "file_extension": ".py",
   "mimetype": "text/x-python",
   "name": "python",
   "nbconvert_exporter": "python",
   "pygments_lexer": "ipython3",
   "version": "3.6.2"
  }
 },
 "nbformat": 4,
 "nbformat_minor": 2
}
